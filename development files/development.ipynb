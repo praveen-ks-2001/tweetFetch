{
 "cells": [
  {
   "cell_type": "code",
   "execution_count": 31,
   "metadata": {},
   "outputs": [],
   "source": [
    "import csv\n",
    "import tweepy"
   ]
  },
  {
   "cell_type": "code",
   "execution_count": 32,
   "metadata": {},
   "outputs": [],
   "source": [
    "def load_credentials(file_path):\n",
    "    \"\"\"Reads credentials from a CSV file.\"\"\"\n",
    "    credentials = {}\n",
    "    try:\n",
    "        with open(file_path, mode='r', encoding='utf-8-sig') as file:\n",
    "            reader = csv.DictReader(file)\n",
    "            for row in reader:\n",
    "                credentials[row['key']] = row['value']\n",
    "    except FileNotFoundError:\n",
    "        print(f\"Error: File {file_path} not found.\")\n",
    "    except Exception as e:\n",
    "        print(f\"Error reading credentials: {e}\")\n",
    "    return credentials"
   ]
  },
  {
   "cell_type": "code",
   "execution_count": 33,
   "metadata": {},
   "outputs": [],
   "source": [
    "\n",
    "\n",
    "def get_latest_tweet(user_id, credentials):\n",
    "    \"\"\"Fetch the latest tweet from the given Twitter ID.\"\"\"\n",
    "    try:\n",
    "        # Authenticate with the Twitter API\n",
    "        auth = tweepy.OAuthHandler(credentials[\"API_KEY\"], credentials[\"API_SECRET_KEY\"])\n",
    "        auth.set_access_token(credentials[\"ACCESS_TOKEN\"], credentials[\"ACCESS_TOKEN_SECRET\"])\n",
    "        api = tweepy.API(auth)\n",
    "\n",
    "        # Get the user's latest tweet\n",
    "        tweets = api.user_timeline(screen_name=user_id, count=1, tweet_mode=\"extended\")\n",
    "        \n",
    "        if tweets:\n",
    "            latest_tweet = tweets[0].full_text\n",
    "            print(f\"Latest tweet by {user_id}:\")\n",
    "            print(latest_tweet)\n",
    "        else:\n",
    "            print(f\"No tweets found for user: {user_id}\")\n",
    "\n",
    "    except tweepy.TweepyException as e:\n",
    "        print(f\"Error: {e}\")"
   ]
  },
  {
   "cell_type": "code",
   "execution_count": 36,
   "metadata": {},
   "outputs": [
    {
     "name": "stdout",
     "output_type": "stream",
     "text": [
      "Error: 403 Forbidden\n",
      "453 - You currently have access to a subset of X API V2 endpoints and limited v1.1 endpoints (e.g. media post, oauth) only. If you need access to this endpoint, you may need a different access level. You can learn more here: https://developer.x.com/en/portal/product\n"
     ]
    }
   ],
   "source": [
    "twitter_id = 'iManasArora'\n",
    "\n",
    "if __name__ == \"__main__\":\n",
    "    # Load credentials from the CSV file\n",
    "    credentials = load_credentials(\"../xCreds.csv\")\n",
    "    if credentials:\n",
    "        get_latest_tweet(twitter_id, credentials)\n"
   ]
  },
  {
   "cell_type": "code",
   "execution_count": 35,
   "metadata": {},
   "outputs": [
    {
     "name": "stdout",
     "output_type": "stream",
     "text": [
      "Authentication OK\n"
     ]
    }
   ],
   "source": [
    "try:\n",
    "    auth = tweepy.OAuthHandler(credentials[\"API_KEY\"], credentials[\"API_SECRET_KEY\"])\n",
    "    auth.set_access_token(credentials[\"ACCESS_TOKEN\"], credentials[\"ACCESS_TOKEN_SECRET\"])\n",
    "    api = tweepy.API(auth, wait_on_rate_limit=True)\n",
    "\n",
    "    # Test authentication\n",
    "    api.verify_credentials()\n",
    "    print(\"Authentication OK\")\n",
    "except tweepy.TweepyException as e:\n",
    "    print(f\"Authentication error: {e}\")\n"
   ]
  },
  {
   "cell_type": "code",
   "execution_count": 46,
   "metadata": {},
   "outputs": [
    {
     "name": "stdout",
     "output_type": "stream",
     "text": [
      "Error: 429 - {'title': 'Too Many Requests', 'detail': 'Too Many Requests', 'type': 'about:blank', 'status': 429}\n"
     ]
    }
   ],
   "source": [
    "## Test this if it is providing correct output\n",
    "\n",
    "import requests\n",
    "\n",
    "def fetch_latest_tweets_v2(user_id, count=5):\n",
    "    url = f\"https://api.twitter.com/2/users/{user_id}/tweets\"\n",
    "    headers = {\n",
    "        \"Authorization\": f\"Bearer {credentials['BEARER_TOKEN']}\"\n",
    "    }\n",
    "    params = {\n",
    "        \"max_results\": count,\n",
    "        \"tweet.fields\": \"created_at,text\"\n",
    "    }\n",
    "    \n",
    "    response = requests.get(url, headers=headers, params=params)\n",
    "    if response.status_code == 200:\n",
    "        tweets = response.json()\n",
    "        if \"data\" in tweets:\n",
    "            for tweet in tweets[\"data\"]:\n",
    "                print(f\"{tweet['created_at']}: {tweet['text']}\")\n",
    "        else:\n",
    "            print(\"No tweets found.\")\n",
    "    else:\n",
    "        print(f\"Error: {response.status_code} - {response.json()}\")\n",
    "\n",
    "# Replace with your Bearer Token and User ID\n",
    "user_id = \"2522635958\"  # Use Twitter's API to fetch the user ID by username if needed.\n",
    "user_name = 'iManasArora'\n",
    "credentials = load_credentials(\"../xCreds.csv\")\n",
    "fetch_latest_tweets_v2(user_id)\n"
   ]
  },
  {
   "cell_type": "code",
   "execution_count": 41,
   "metadata": {},
   "outputs": [
    {
     "name": "stdout",
     "output_type": "stream",
     "text": [
      "{'data': {'id': '2522635958', 'name': 'Manas Arora', 'username': 'iManasArora'}}\n"
     ]
    }
   ],
   "source": [
    "url = \"https://api.twitter.com/2/users/by/username/iManasArora\"\n",
    "headers = {\"Authorization\": f\"Bearer {credentials['BEARER_TOKEN']}\"}\n",
    "response = requests.get(url, headers=headers)\n",
    "print(response.json())\n"
   ]
  },
  {
   "cell_type": "code",
   "execution_count": 42,
   "metadata": {},
   "outputs": [
    {
     "name": "stdout",
     "output_type": "stream",
     "text": [
      "Error: 401 - {'title': 'Unauthorized', 'type': 'about:blank', 'status': 401, 'detail': 'Unauthorized'}\n"
     ]
    }
   ],
   "source": [
    "import requests\n",
    "\n",
    "def fetch_latest_tweets(bearer_token, user_id, count=5):\n",
    "    url = f\"https://api.twitter.com/2/users/{user_id}/tweets\"\n",
    "    headers = {\n",
    "        \"Authorization\": f\"Bearer {bearer_token}\"\n",
    "    }\n",
    "    params = {\n",
    "        \"max_results\": count,  # Number of tweets to fetch (max: 100)\n",
    "        \"tweet.fields\": \"created_at,text,author_id\"  # Add more fields as needed\n",
    "    }\n",
    "    \n",
    "    response = requests.get(url, headers=headers, params=params)\n",
    "    if response.status_code == 200:\n",
    "        tweets = response.json()\n",
    "        if \"data\" in tweets:\n",
    "            print(f\"Latest {count} Tweets by User ID {user_id}:\")\n",
    "            for tweet in tweets[\"data\"]:\n",
    "                print(f\"{tweet['created_at']}: {tweet['text']}\")\n",
    "        else:\n",
    "            print(\"No tweets found.\")\n",
    "    else:\n",
    "        print(f\"Error: {response.status_code} - {response.json()}\")\n",
    "\n",
    "# Example usage\n",
    "if __name__ == \"__main__\":\n",
    "    credentials = {\n",
    "        \"BEARER_TOKEN\": \"Your_Bearer_Token_Here\"\n",
    "    }\n",
    "    user_id = \"2522635958\"  # User ID for @iManasArora\n",
    "    fetch_latest_tweets(credentials[\"BEARER_TOKEN\"], user_id)\n"
   ]
  },
  {
   "cell_type": "code",
   "execution_count": 43,
   "metadata": {},
   "outputs": [
    {
     "name": "stdout",
     "output_type": "stream",
     "text": [
      "Error: 401 - {'title': 'Unauthorized', 'type': 'about:blank', 'status': 401, 'detail': 'Unauthorized'}\n"
     ]
    }
   ],
   "source": [
    "import requests\n",
    "\n",
    "def test_bearer_token(bearer_token):\n",
    "    url = \"https://api.twitter.com/2/tweets\"\n",
    "    headers = {\n",
    "        \"Authorization\": f\"Bearer {bearer_token}\"\n",
    "    }\n",
    "    response = requests.get(url, headers=headers)\n",
    "    \n",
    "    if response.status_code == 200:\n",
    "        print(\"Bearer Token is valid.\")\n",
    "    else:\n",
    "        print(f\"Error: {response.status_code} - {response.json()}\")\n",
    "\n",
    "# Replace with your Bearer Token\n",
    "test_bearer_token(\"Your_Bearer_Token_Here\")\n"
   ]
  }
 ],
 "metadata": {
  "kernelspec": {
   "display_name": "Python 3",
   "language": "python",
   "name": "python3"
  },
  "language_info": {
   "codemirror_mode": {
    "name": "ipython",
    "version": 3
   },
   "file_extension": ".py",
   "mimetype": "text/x-python",
   "name": "python",
   "nbconvert_exporter": "python",
   "pygments_lexer": "ipython3",
   "version": "3.10.0"
  }
 },
 "nbformat": 4,
 "nbformat_minor": 2
}
